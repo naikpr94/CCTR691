{
 "cells": [
  {
   "cell_type": "markdown",
   "id": "a1a3122d-cea7-4947-b930-f2192e988b1c",
   "metadata": {
    "tags": []
   },
   "source": [
    "# Hello World Lab\n",
    "\n",
    "This notebook is the first CCTR691 lab."
   ]
  },
  {
   "cell_type": "code",
   "execution_count": 7,
   "id": "19c7af26-5bfc-4be4-80d8-4fd4cb6568c1",
   "metadata": {
    "tags": []
   },
   "outputs": [
    {
     "name": "stdout",
     "output_type": "stream",
     "text": [
      "Hello World\n"
     ]
    }
   ],
   "source": [
    "print(\"Hello World\")"
   ]
  },
  {
   "cell_type": "code",
   "execution_count": null,
   "id": "2887a17a-6886-4fc5-bd37-9f08f21cb259",
   "metadata": {},
   "outputs": [],
   "source": []
  }
 ],
 "metadata": {
  "kernelspec": {
   "display_name": "Python 3 (ipykernel)",
   "language": "python",
   "name": "python3"
  },
  "language_info": {
   "codemirror_mode": {
    "name": "ipython",
    "version": 3
   },
   "file_extension": ".py",
   "mimetype": "text/x-python",
   "name": "python",
   "nbconvert_exporter": "python",
   "pygments_lexer": "ipython3",
   "version": "3.11.5"
  }
 },
 "nbformat": 4,
 "nbformat_minor": 5
}
